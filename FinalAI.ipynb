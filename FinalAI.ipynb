{
  "nbformat": 4,
  "nbformat_minor": 0,
  "metadata": {
    "colab": {
      "name": "FinalAI.ipynb",
      "provenance": []
    },
    "kernelspec": {
      "name": "python3",
      "display_name": "Python 3"
    }
  },
  "cells": [
    {
      "cell_type": "code",
      "metadata": {
        "id": "g34GavvVKGy6",
        "colab_type": "code",
        "colab": {}
      },
      "source": [
        "import sys\n",
        "import os\n",
        "\n",
        "import xml.etree.ElementTree as elt\n",
        "from sklearn.metrics import confusion_matrix \n",
        "from sklearn.metrics import accuracy_score \n",
        "import seaborn as sn\n",
        "import matplotlib.pyplot as plt\n"
      ],
      "execution_count": 0,
      "outputs": []
    },
    {
      "cell_type": "code",
      "metadata": {
        "id": "g1lODtpgKRA7",
        "colab_type": "code",
        "outputId": "65ac6ad4-4c7d-49bd-f577-1dc5becc2c17",
        "colab": {
          "base_uri": "https://localhost:8080/",
          "height": 819
        }
      },
      "source": [
        "%cd /content/drive/My\\ Drive/\n",
        "!pwd\n",
        "outerfolder = \"Train-corups-n/\"\n",
        "outerfolder1 = \"Test-Corpus/\"\n",
        "Dict = {}\n",
        "Dict1 = {}\n",
        "Dict2={}\n",
        "taglist=[]\n",
        "prevtag = '^'\n",
        "out=\"\"\n",
        "shpfiles = []\n",
        "for dirpath, subdirs, files in os.walk(outerfolder):\n",
        "    for x in files:\n",
        "        if x.endswith(\".xml\"):\n",
        "            shpfiles.append(os.path.join(dirpath, x))\n",
        "for file in shpfiles:\n",
        "  tree = elt.parse(file)\n",
        "  r = tree.getroot()\n",
        "\n",
        "  for w in r.iter(): #Dict contains word to tag probability and Dict1 contains tag to tag transition probability\n",
        "    if w.tag=='w':\n",
        "      word = w.text.strip().lower()\n",
        "\n",
        "      tag = w.attrib['c5']\n",
        "      if tag not in taglist:\n",
        "        taglist.append(tag)\n",
        "      if tag in Dict:\n",
        "        if word in Dict[tag]:\n",
        "          Dict[tag][word]+=1\n",
        "        else:\n",
        "          Dict[tag][word]=1\n",
        "      else:\n",
        "        innerDict = {}\n",
        "        innerDict[word] = 1\n",
        "        Dict[tag] = innerDict\n",
        "\n",
        "      if prevtag in Dict1:\n",
        "        if tag in Dict1[prevtag]:\n",
        "          Dict1[prevtag][tag]+=1\n",
        "        else:\n",
        "          Dict1[prevtag][tag]=1\n",
        "      else:\n",
        "        innerDict = {}\n",
        "        innerDict[tag] = 1\n",
        "        Dict1[prevtag] = innerDict\n",
        "      prevtag = tag\n",
        "\n",
        "      if word in Dict2:\n",
        "        if tag in Dict2[word]:\n",
        "          Dict2[word][tag]+=1\n",
        "        else:\n",
        "          Dict2[word][tag]=1\n",
        "      else:\n",
        "        innerDict={}\n",
        "        innerDict[tag]=1\n",
        "        Dict2[word]=innerDict\n",
        "\n",
        "    elif w.tag=='c':\n",
        "      tag = \".\"\n",
        "      if prevtag in Dict1:\n",
        "        if tag in Dict1[prevtag]:\n",
        "          Dict1[prevtag][tag]+=1\n",
        "        else:\n",
        "          Dict1[prevtag][tag]=1\n",
        "      else:\n",
        "        innerDict = {}\n",
        "        innerDict[tag] = 1\n",
        "        Dict1[prevtag] = innerDict\n",
        "      prevtag = '^'\n",
        "\n",
        "#Calculating Probability in Dict and Dict1\n",
        "for i in Dict:\n",
        "  count = 0\n",
        "  for j in Dict[i]:\n",
        "    count+=Dict[i][j]\n",
        "  for j in Dict[i]:\n",
        "    Dict[i][j]=Dict[i][j]/count\n",
        "\n",
        "for i in Dict1:\n",
        "  count = 0\n",
        "  for j in Dict1[i]:\n",
        "    count+=Dict1[i][j]\n",
        "  for j in Dict1[i]:\n",
        "    Dict1[i][j]=Dict1[i][j]/count\n",
        "\n",
        "\n",
        "#test\n",
        "shpfiles1 = []\n",
        "actual = []\n",
        "predicted = []\n",
        "for dirpath, subdirs, files in os.walk(outerfolder1):\n",
        "    for x in files:\n",
        "        if x.endswith(\".xml\"):\n",
        "            shpfiles1.append(os.path.join(dirpath, x))\n",
        "for file in shpfiles1:\n",
        "  tree = elt.parse(file)\n",
        "  r = tree.getroot()\n",
        "  seq=[]\n",
        "  sentence=\"\"\n",
        "  for w in r.iter(): # taking valid words\n",
        "    if w.tag=='w' and str(w.text.strip().lower()) in Dict2:\n",
        "      seq.append(w.text.strip().lower())\n",
        "      sentence+= w.text.strip().lower()+\" \"\n",
        "      actual.append(w.attrib['c5'])\n",
        "    elif w.tag=='c' and len(sentence) !=0:\n",
        "      #print(sentence)\n",
        "\n",
        "      #applying the algorithm\n",
        "      pbt=[]\n",
        "      for t in taglist:\n",
        "        pbt.append(1.0)\n",
        "      cpbt=[]\n",
        "      pt='^'\n",
        "\n",
        "      #base/ first column\n",
        "      for t in taglist:\n",
        "        mx=0.0\n",
        "        for p in range(len(pbt)):\n",
        "          if t in Dict1[pt] and t in Dict and seq[0] in Dict[t]:\n",
        "            score=pbt[p]*Dict1[pt][t]*Dict[t][seq[0]]*1000\n",
        "            mx=max(mx,score)\n",
        "        cpbt.append(mx)\n",
        "      ans=[]\n",
        "\n",
        "      mx1=0\n",
        "      index=0\n",
        "      for i in range(len(cpbt)):\n",
        "        if cpbt[i]>mx1:\n",
        "          mx1=cpbt[i]\n",
        "          index=i;\n",
        "      ans.append(taglist[index])\n",
        "      predicted.append(taglist[index])\n",
        "      pbt=cpbt\n",
        "\n",
        "      #rest of the columns\n",
        "\n",
        "      for i in range(1, len(seq)):\n",
        "        cpbt1=[]\n",
        "        for t in taglist:\n",
        "          mx=0\n",
        "          for p in range(len(pbt)):\n",
        "            if t in Dict1[taglist[p]] and t in Dict and seq[i] in Dict[t]:\n",
        "              score=pbt[p]*Dict1[taglist[p]][t]*Dict[t][seq[i]]\n",
        "              mx=max(mx,score)\n",
        "          cpbt1.append(mx)\n",
        "          \n",
        "        mx2=0\n",
        "        index2=0\n",
        "        for k in range(len(cpbt1)):\n",
        "          if cpbt1[k]>mx2:\n",
        "            mx2=cpbt1[k]\n",
        "            index2=k\n",
        "        ans.append(taglist[index2])\n",
        "        predicted.append(taglist[index2])\n",
        "        pbt=cpbt1\n",
        "\n",
        "      tagseq=\"\"\n",
        "      for i in range(len(ans)):\n",
        "        tagseq= tagseq+ans[i]+\" \"\n",
        "\n",
        "      ans.clear()\n",
        "\n",
        "        #output the the tag in the file\n",
        "        \n",
        "      out+= \"The word sequence is \"+ sentence+\" and the tag sequence is \"+tagseq+\"\\n\"\n",
        "      seq.clear()\n",
        "      sentence=\"\"\n",
        "\n",
        "\n",
        "out3 = \"Confusion Matrix :\" + \"\\n\"\n",
        "results = confusion_matrix(actual, predicted)\n",
        "out3+=str(results)+\"\\n\"\n",
        "out3+=\"Accuracy Score : \" + str(accuracy_score(actual, predicted))\n",
        "\n",
        "print(out3)\n",
        "plt.figure(figsize=(10,10))\n",
        "sn.heatmap(results, cmap='gray_r')\n",
        "plt.show()\n",
        "\n",
        "\n",
        "%cd /content\n",
        "\n",
        "\n",
        "out1 = open(\"Week9_output.txt\",'w');\n",
        "out1.write(out)\n",
        "\n",
        "out4 = open(\"Week92_output.txt\",'w');\n",
        "out4.write(out3)\n",
        "  \n",
        "\n"
      ],
      "execution_count": 2,
      "outputs": [
        {
          "output_type": "stream",
          "text": [
            "/content/drive/My Drive\n",
            "/content/drive/My Drive\n",
            "Confusion Matrix :\n",
            "[[10504     8    69 ...     0     0     0]\n",
            " [   79     8     0 ...     0     0     0]\n",
            " [  161     0   145 ...     0     0     0]\n",
            " ...\n",
            " [    0     0     0 ...     9     0     0]\n",
            " [    1     0     0 ...     0  1061     0]\n",
            " [    0     0     0 ...     0     0    76]]\n",
            "Accuracy Score : 0.9202384170915882\n"
          ],
          "name": "stdout"
        },
        {
          "output_type": "display_data",
          "data": {
            "image/png": "[encoded data removed]",
            "text/plain": [
              "<Figure size 720x720 with 2 Axes>"
            ]
          },
          "metadata": {
            "tags": []
          }
        },
        {
          "output_type": "stream",
          "text": [
            "/content\n"
          ],
          "name": "stdout"
        },
        {
          "output_type": "execute_result",
          "data": {
            "text/plain": [
              "318"
            ]
          },
          "metadata": {
            "tags": []
          },
          "execution_count": 2
        }
      ]
    },
    {
      "cell_type": "code",
      "metadata": {
        "id": "ZjJm1Xu7LjCq",
        "colab_type": "code",
        "outputId": "3023fd22-7640-4583-941b-0f13ed24990c",
        "colab": {
          "base_uri": "https://localhost:8080/",
          "height": 34
        }
      },
      "source": [
        "from google.colab import drive\n",
        "drive.mount('/content/drive')"
      ],
      "execution_count": 0,
      "outputs": [
        {
          "output_type": "stream",
          "text": [
            "Drive already mounted at /content/drive; to attempt to forcibly remount, call drive.mount(\"/content/drive\", force_remount=True).\n"
          ],
          "name": "stdout"
        }
      ]
    }
  ]
}